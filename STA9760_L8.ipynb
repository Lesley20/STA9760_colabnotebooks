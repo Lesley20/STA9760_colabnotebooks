{
  "nbformat": 4,
  "nbformat_minor": 0,
  "metadata": {
    "colab": {
      "name": "STA9760_L8.ipynb",
      "provenance": [],
      "authorship_tag": "ABX9TyOPT8S/1cOwtxlmBViRnqOD",
      "include_colab_link": true
    },
    "kernelspec": {
      "name": "python3",
      "display_name": "Python 3"
    }
  },
  "cells": [
    {
      "cell_type": "markdown",
      "metadata": {
        "id": "view-in-github",
        "colab_type": "text"
      },
      "source": [
        "<a href=\"https://colab.research.google.com/github/Lesley20/STA9760_colabnotebooks/blob/master/STA9760_L8.ipynb\" target=\"_parent\"><img src=\"https://colab.research.google.com/assets/colab-badge.svg\" alt=\"Open In Colab\"/></a>"
      ]
    },
    {
      "cell_type": "code",
      "metadata": {
        "id": "xCIMM4vpX0pY",
        "colab_type": "code",
        "outputId": "24ca5981-7a90-4f44-c73f-19a81b2d7e7c",
        "colab": {
          "base_uri": "https://localhost:8080/",
          "height": 88
        }
      },
      "source": [
        "import requests\n",
        "\n",
        "# this is a \"get\" request - try pasting into your browser URL\n",
        "r = requests.get('https://api.github.com/users/Lesley20')\n",
        "\n",
        "# this is the status code, 200 means \"successful\"\n",
        "print(r.status_code)\n",
        "\n",
        "# this is a hint for what type of content we expect to get back\n",
        "# application/json implies it is encoded as a data structure\n",
        "print(r.headers['content-type'])\n",
        "\n",
        "# print the actual response\n",
        "print(r.json())"
      ],
      "execution_count": 0,
      "outputs": [
        {
          "output_type": "stream",
          "text": [
            "200\n",
            "application/json; charset=utf-8\n",
            "{'login': 'Lesley20', 'id': 45520038, 'node_id': 'MDQ6VXNlcjQ1NTIwMDM4', 'avatar_url': 'https://avatars0.githubusercontent.com/u/45520038?v=4', 'gravatar_id': '', 'url': 'https://api.github.com/users/Lesley20', 'html_url': 'https://github.com/Lesley20', 'followers_url': 'https://api.github.com/users/Lesley20/followers', 'following_url': 'https://api.github.com/users/Lesley20/following{/other_user}', 'gists_url': 'https://api.github.com/users/Lesley20/gists{/gist_id}', 'starred_url': 'https://api.github.com/users/Lesley20/starred{/owner}{/repo}', 'subscriptions_url': 'https://api.github.com/users/Lesley20/subscriptions', 'organizations_url': 'https://api.github.com/users/Lesley20/orgs', 'repos_url': 'https://api.github.com/users/Lesley20/repos', 'events_url': 'https://api.github.com/users/Lesley20/events{/privacy}', 'received_events_url': 'https://api.github.com/users/Lesley20/received_events', 'type': 'User', 'site_admin': False, 'name': None, 'company': None, 'blog': '', 'location': None, 'email': None, 'hireable': None, 'bio': None, 'public_repos': 3, 'public_gists': 0, 'followers': 0, 'following': 0, 'created_at': '2018-12-01T18:36:19Z', 'updated_at': '2020-03-19T00:27:28Z'}\n"
          ],
          "name": "stdout"
        }
      ]
    }
  ]
}